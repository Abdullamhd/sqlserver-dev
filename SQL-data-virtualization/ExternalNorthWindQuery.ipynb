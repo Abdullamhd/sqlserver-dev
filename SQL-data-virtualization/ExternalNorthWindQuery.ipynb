{
    "metadata": {
        "kernelspec": {
            "name": "SQL",
            "display_name": "SQL",
            "language": "sql"
        },
        "language_info": {
            "name": "sql",
            "version": ""
        }
    },
    "nbformat_minor": 2,
    "nbformat": 4,
    "cells": [
        {
            "cell_type": "code",
            "source": [
                "use external_db ;\r\n",
                "\r\n",
                "\r\n",
                "SELECT * from ext.Employees ;"
            ],
            "metadata": {
                "azdata_cell_guid": "0bdcc803-c375-413a-b66f-4eae64aa10f2"
            },
            "outputs": [
                {
                    "output_type": "display_data",
                    "data": {
                        "text/html": "(9 rows affected)"
                    },
                    "metadata": {}
                },
                {
                    "output_type": "display_data",
                    "data": {
                        "text/html": "Total execution time: 00:00:01.295"
                    },
                    "metadata": {}
                },
                {
                    "output_type": "execute_result",
                    "metadata": {},
                    "execution_count": 2,
                    "data": {
                        "application/vnd.dataresource+json": {
                            "schema": {
                                "fields": [
                                    {
                                        "name": "EmployeeID"
                                    },
                                    {
                                        "name": "LastName"
                                    },
                                    {
                                        "name": "FirstName"
                                    },
                                    {
                                        "name": "Title"
                                    },
                                    {
                                        "name": "TitleOfCourtesy"
                                    },
                                    {
                                        "name": "BirthDate"
                                    },
                                    {
                                        "name": "HireDate"
                                    },
                                    {
                                        "name": "Address"
                                    },
                                    {
                                        "name": "City"
                                    },
                                    {
                                        "name": "Region"
                                    },
                                    {
                                        "name": "PostalCode"
                                    },
                                    {
                                        "name": "Country"
                                    },
                                    {
                                        "name": "HomePhone"
                                    },
                                    {
                                        "name": "Extension"
                                    },
                                    {
                                        "name": "ReportsTo"
                                    },
                                    {
                                        "name": "PhotoPath"
                                    }
                                ]
                            },
                            "data": [
                                {
                                    "0": "1",
                                    "1": "Davolio",
                                    "2": "Nancy",
                                    "3": "Sales Representative",
                                    "4": "Ms.",
                                    "5": "1948-12-08 00:00:00.000",
                                    "6": "1992-05-01 00:00:00.000",
                                    "7": "507 - 20th Ave. E.\r\nApt. 2A",
                                    "8": "Seattle",
                                    "9": "WA",
                                    "10": "98122",
                                    "11": "USA",
                                    "12": "(206) 555-9857",
                                    "13": "5467",
                                    "14": "2",
                                    "15": "http://accweb/emmployees/davolio.bmp"
                                },
                                {
                                    "0": "2",
                                    "1": "Fuller",
                                    "2": "Andrew",
                                    "3": "Vice President, Sales",
                                    "4": "Dr.",
                                    "5": "1952-02-19 00:00:00.000",
                                    "6": "1992-08-14 00:00:00.000",
                                    "7": "908 W. Capital Way",
                                    "8": "Tacoma",
                                    "9": "WA",
                                    "10": "98401",
                                    "11": "USA",
                                    "12": "(206) 555-9482",
                                    "13": "3457",
                                    "14": "NULL",
                                    "15": "http://accweb/emmployees/fuller.bmp"
                                },
                                {
                                    "0": "3",
                                    "1": "Leverling",
                                    "2": "Janet",
                                    "3": "Sales Representative",
                                    "4": "Ms.",
                                    "5": "1963-08-30 00:00:00.000",
                                    "6": "1992-04-01 00:00:00.000",
                                    "7": "722 Moss Bay Blvd.",
                                    "8": "Kirkland",
                                    "9": "WA",
                                    "10": "98033",
                                    "11": "USA",
                                    "12": "(206) 555-3412",
                                    "13": "3355",
                                    "14": "2",
                                    "15": "http://accweb/emmployees/leverling.bmp"
                                },
                                {
                                    "0": "4",
                                    "1": "Peacock",
                                    "2": "Margaret",
                                    "3": "Sales Representative",
                                    "4": "Mrs.",
                                    "5": "1937-09-19 00:00:00.000",
                                    "6": "1993-05-03 00:00:00.000",
                                    "7": "4110 Old Redmond Rd.",
                                    "8": "Redmond",
                                    "9": "WA",
                                    "10": "98052",
                                    "11": "USA",
                                    "12": "(206) 555-8122",
                                    "13": "5176",
                                    "14": "2",
                                    "15": "http://accweb/emmployees/peacock.bmp"
                                },
                                {
                                    "0": "5",
                                    "1": "Buchanan",
                                    "2": "Steven",
                                    "3": "Sales Manager",
                                    "4": "Mr.",
                                    "5": "1955-03-04 00:00:00.000",
                                    "6": "1993-10-17 00:00:00.000",
                                    "7": "14 Garrett Hill",
                                    "8": "London",
                                    "9": "NULL",
                                    "10": "SW1 8JR",
                                    "11": "UK",
                                    "12": "(71) 555-4848",
                                    "13": "3453",
                                    "14": "2",
                                    "15": "http://accweb/emmployees/buchanan.bmp"
                                },
                                {
                                    "0": "6",
                                    "1": "Suyama",
                                    "2": "Michael",
                                    "3": "Sales Representative",
                                    "4": "Mr.",
                                    "5": "1963-07-02 00:00:00.000",
                                    "6": "1993-10-17 00:00:00.000",
                                    "7": "Coventry House\r\nMiner Rd.",
                                    "8": "London",
                                    "9": "NULL",
                                    "10": "EC2 7JR",
                                    "11": "UK",
                                    "12": "(71) 555-7773",
                                    "13": "428",
                                    "14": "5",
                                    "15": "http://accweb/emmployees/davolio.bmp"
                                },
                                {
                                    "0": "7",
                                    "1": "King",
                                    "2": "Robert",
                                    "3": "Sales Representative",
                                    "4": "Mr.",
                                    "5": "1960-05-29 00:00:00.000",
                                    "6": "1994-01-02 00:00:00.000",
                                    "7": "Edgeham Hollow\r\nWinchester Way",
                                    "8": "London",
                                    "9": "NULL",
                                    "10": "RG1 9SP",
                                    "11": "UK",
                                    "12": "(71) 555-5598",
                                    "13": "465",
                                    "14": "5",
                                    "15": "http://accweb/emmployees/davolio.bmp"
                                },
                                {
                                    "0": "8",
                                    "1": "Callahan",
                                    "2": "Laura",
                                    "3": "Inside Sales Coordinator",
                                    "4": "Ms.",
                                    "5": "1958-01-09 00:00:00.000",
                                    "6": "1994-03-05 00:00:00.000",
                                    "7": "4726 - 11th Ave. N.E.",
                                    "8": "Seattle",
                                    "9": "WA",
                                    "10": "98105",
                                    "11": "USA",
                                    "12": "(206) 555-1189",
                                    "13": "2344",
                                    "14": "2",
                                    "15": "http://accweb/emmployees/davolio.bmp"
                                },
                                {
                                    "0": "9",
                                    "1": "Dodsworth",
                                    "2": "Anne",
                                    "3": "Sales Representative",
                                    "4": "Ms.",
                                    "5": "1966-01-27 00:00:00.000",
                                    "6": "1994-11-15 00:00:00.000",
                                    "7": "7 Houndstooth Rd.",
                                    "8": "London",
                                    "9": "NULL",
                                    "10": "WG2 7LT",
                                    "11": "UK",
                                    "12": "(71) 555-4444",
                                    "13": "452",
                                    "14": "5",
                                    "15": "http://accweb/emmployees/davolio.bmp"
                                }
                            ]
                        },
                        "text/html": [
                            "<table>",
                            "<tr><th>EmployeeID</th><th>LastName</th><th>FirstName</th><th>Title</th><th>TitleOfCourtesy</th><th>BirthDate</th><th>HireDate</th><th>Address</th><th>City</th><th>Region</th><th>PostalCode</th><th>Country</th><th>HomePhone</th><th>Extension</th><th>ReportsTo</th><th>PhotoPath</th></tr>",
                            "<tr><td>1</td><td>Davolio</td><td>Nancy</td><td>Sales Representative</td><td>Ms.</td><td>1948-12-08 00:00:00.000</td><td>1992-05-01 00:00:00.000</td><td>507 - 20th Ave. E.\r\nApt. 2A</td><td>Seattle</td><td>WA</td><td>98122</td><td>USA</td><td>(206) 555-9857</td><td>5467</td><td>2</td><td>http://accweb/emmployees/davolio.bmp</td></tr>",
                            "<tr><td>2</td><td>Fuller</td><td>Andrew</td><td>Vice President, Sales</td><td>Dr.</td><td>1952-02-19 00:00:00.000</td><td>1992-08-14 00:00:00.000</td><td>908 W. Capital Way</td><td>Tacoma</td><td>WA</td><td>98401</td><td>USA</td><td>(206) 555-9482</td><td>3457</td><td>NULL</td><td>http://accweb/emmployees/fuller.bmp</td></tr>",
                            "<tr><td>3</td><td>Leverling</td><td>Janet</td><td>Sales Representative</td><td>Ms.</td><td>1963-08-30 00:00:00.000</td><td>1992-04-01 00:00:00.000</td><td>722 Moss Bay Blvd.</td><td>Kirkland</td><td>WA</td><td>98033</td><td>USA</td><td>(206) 555-3412</td><td>3355</td><td>2</td><td>http://accweb/emmployees/leverling.bmp</td></tr>",
                            "<tr><td>4</td><td>Peacock</td><td>Margaret</td><td>Sales Representative</td><td>Mrs.</td><td>1937-09-19 00:00:00.000</td><td>1993-05-03 00:00:00.000</td><td>4110 Old Redmond Rd.</td><td>Redmond</td><td>WA</td><td>98052</td><td>USA</td><td>(206) 555-8122</td><td>5176</td><td>2</td><td>http://accweb/emmployees/peacock.bmp</td></tr>",
                            "<tr><td>5</td><td>Buchanan</td><td>Steven</td><td>Sales Manager</td><td>Mr.</td><td>1955-03-04 00:00:00.000</td><td>1993-10-17 00:00:00.000</td><td>14 Garrett Hill</td><td>London</td><td>NULL</td><td>SW1 8JR</td><td>UK</td><td>(71) 555-4848</td><td>3453</td><td>2</td><td>http://accweb/emmployees/buchanan.bmp</td></tr>",
                            "<tr><td>6</td><td>Suyama</td><td>Michael</td><td>Sales Representative</td><td>Mr.</td><td>1963-07-02 00:00:00.000</td><td>1993-10-17 00:00:00.000</td><td>Coventry House\r\nMiner Rd.</td><td>London</td><td>NULL</td><td>EC2 7JR</td><td>UK</td><td>(71) 555-7773</td><td>428</td><td>5</td><td>http://accweb/emmployees/davolio.bmp</td></tr>",
                            "<tr><td>7</td><td>King</td><td>Robert</td><td>Sales Representative</td><td>Mr.</td><td>1960-05-29 00:00:00.000</td><td>1994-01-02 00:00:00.000</td><td>Edgeham Hollow\r\nWinchester Way</td><td>London</td><td>NULL</td><td>RG1 9SP</td><td>UK</td><td>(71) 555-5598</td><td>465</td><td>5</td><td>http://accweb/emmployees/davolio.bmp</td></tr>",
                            "<tr><td>8</td><td>Callahan</td><td>Laura</td><td>Inside Sales Coordinator</td><td>Ms.</td><td>1958-01-09 00:00:00.000</td><td>1994-03-05 00:00:00.000</td><td>4726 - 11th Ave. N.E.</td><td>Seattle</td><td>WA</td><td>98105</td><td>USA</td><td>(206) 555-1189</td><td>2344</td><td>2</td><td>http://accweb/emmployees/davolio.bmp</td></tr>",
                            "<tr><td>9</td><td>Dodsworth</td><td>Anne</td><td>Sales Representative</td><td>Ms.</td><td>1966-01-27 00:00:00.000</td><td>1994-11-15 00:00:00.000</td><td>7 Houndstooth Rd.</td><td>London</td><td>NULL</td><td>WG2 7LT</td><td>UK</td><td>(71) 555-4444</td><td>452</td><td>5</td><td>http://accweb/emmployees/davolio.bmp</td></tr>",
                            "</table>"
                        ]
                    }
                }
            ],
            "execution_count": 2
        },
        {
            "cell_type": "code",
            "source": [
                "select * from ext.Employees;"
            ],
            "metadata": {
                "azdata_cell_guid": "a6327e98-3ced-4863-8e7b-44a32aceb46b"
            },
            "outputs": [
                {
                    "output_type": "display_data",
                    "data": {
                        "text/html": "(9 rows affected)"
                    },
                    "metadata": {}
                },
                {
                    "output_type": "display_data",
                    "data": {
                        "text/html": "Total execution time: 00:00:00.258"
                    },
                    "metadata": {}
                },
                {
                    "output_type": "execute_result",
                    "metadata": {},
                    "execution_count": 4,
                    "data": {
                        "application/vnd.dataresource+json": {
                            "schema": {
                                "fields": [
                                    {
                                        "name": "EmployeeID"
                                    },
                                    {
                                        "name": "LastName"
                                    },
                                    {
                                        "name": "FirstName"
                                    },
                                    {
                                        "name": "Title"
                                    },
                                    {
                                        "name": "TitleOfCourtesy"
                                    },
                                    {
                                        "name": "BirthDate"
                                    },
                                    {
                                        "name": "HireDate"
                                    },
                                    {
                                        "name": "Address"
                                    },
                                    {
                                        "name": "City"
                                    },
                                    {
                                        "name": "Region"
                                    },
                                    {
                                        "name": "PostalCode"
                                    },
                                    {
                                        "name": "Country"
                                    },
                                    {
                                        "name": "HomePhone"
                                    },
                                    {
                                        "name": "Extension"
                                    },
                                    {
                                        "name": "ReportsTo"
                                    },
                                    {
                                        "name": "PhotoPath"
                                    }
                                ]
                            },
                            "data": [
                                {
                                    "0": "1",
                                    "1": "Davolio",
                                    "2": "Nancy",
                                    "3": "Sales Representative",
                                    "4": "Ms.",
                                    "5": "1948-12-08 00:00:00.000",
                                    "6": "1992-05-01 00:00:00.000",
                                    "7": "507 - 20th Ave. E.\r\nApt. 2A",
                                    "8": "Seattle",
                                    "9": "WA",
                                    "10": "98122",
                                    "11": "USA",
                                    "12": "(206) 555-9857",
                                    "13": "5467",
                                    "14": "2",
                                    "15": "http://accweb/emmployees/davolio.bmp"
                                },
                                {
                                    "0": "2",
                                    "1": "Fuller",
                                    "2": "Andrew",
                                    "3": "Vice President, Sales",
                                    "4": "Dr.",
                                    "5": "1952-02-19 00:00:00.000",
                                    "6": "1992-08-14 00:00:00.000",
                                    "7": "908 W. Capital Way",
                                    "8": "Tacoma",
                                    "9": "WA",
                                    "10": "98401",
                                    "11": "USA",
                                    "12": "(206) 555-9482",
                                    "13": "3457",
                                    "14": "NULL",
                                    "15": "http://accweb/emmployees/fuller.bmp"
                                },
                                {
                                    "0": "3",
                                    "1": "Leverling",
                                    "2": "Janet",
                                    "3": "Sales Representative",
                                    "4": "Ms.",
                                    "5": "1963-08-30 00:00:00.000",
                                    "6": "1992-04-01 00:00:00.000",
                                    "7": "722 Moss Bay Blvd.",
                                    "8": "Kirkland",
                                    "9": "WA",
                                    "10": "98033",
                                    "11": "USA",
                                    "12": "(206) 555-3412",
                                    "13": "3355",
                                    "14": "2",
                                    "15": "http://accweb/emmployees/leverling.bmp"
                                },
                                {
                                    "0": "4",
                                    "1": "Peacock",
                                    "2": "Margaret",
                                    "3": "Sales Representative",
                                    "4": "Mrs.",
                                    "5": "1937-09-19 00:00:00.000",
                                    "6": "1993-05-03 00:00:00.000",
                                    "7": "4110 Old Redmond Rd.",
                                    "8": "Redmond",
                                    "9": "WA",
                                    "10": "98052",
                                    "11": "USA",
                                    "12": "(206) 555-8122",
                                    "13": "5176",
                                    "14": "2",
                                    "15": "http://accweb/emmployees/peacock.bmp"
                                },
                                {
                                    "0": "5",
                                    "1": "Buchanan",
                                    "2": "Steven",
                                    "3": "Sales Manager",
                                    "4": "Mr.",
                                    "5": "1955-03-04 00:00:00.000",
                                    "6": "1993-10-17 00:00:00.000",
                                    "7": "14 Garrett Hill",
                                    "8": "London",
                                    "9": "NULL",
                                    "10": "SW1 8JR",
                                    "11": "UK",
                                    "12": "(71) 555-4848",
                                    "13": "3453",
                                    "14": "2",
                                    "15": "http://accweb/emmployees/buchanan.bmp"
                                },
                                {
                                    "0": "6",
                                    "1": "Suyama",
                                    "2": "Michael",
                                    "3": "Sales Representative",
                                    "4": "Mr.",
                                    "5": "1963-07-02 00:00:00.000",
                                    "6": "1993-10-17 00:00:00.000",
                                    "7": "Coventry House\r\nMiner Rd.",
                                    "8": "London",
                                    "9": "NULL",
                                    "10": "EC2 7JR",
                                    "11": "UK",
                                    "12": "(71) 555-7773",
                                    "13": "428",
                                    "14": "5",
                                    "15": "http://accweb/emmployees/davolio.bmp"
                                },
                                {
                                    "0": "7",
                                    "1": "King",
                                    "2": "Robert",
                                    "3": "Sales Representative",
                                    "4": "Mr.",
                                    "5": "1960-05-29 00:00:00.000",
                                    "6": "1994-01-02 00:00:00.000",
                                    "7": "Edgeham Hollow\r\nWinchester Way",
                                    "8": "London",
                                    "9": "NULL",
                                    "10": "RG1 9SP",
                                    "11": "UK",
                                    "12": "(71) 555-5598",
                                    "13": "465",
                                    "14": "5",
                                    "15": "http://accweb/emmployees/davolio.bmp"
                                },
                                {
                                    "0": "8",
                                    "1": "Callahan",
                                    "2": "Laura",
                                    "3": "Inside Sales Coordinator",
                                    "4": "Ms.",
                                    "5": "1958-01-09 00:00:00.000",
                                    "6": "1994-03-05 00:00:00.000",
                                    "7": "4726 - 11th Ave. N.E.",
                                    "8": "Seattle",
                                    "9": "WA",
                                    "10": "98105",
                                    "11": "USA",
                                    "12": "(206) 555-1189",
                                    "13": "2344",
                                    "14": "2",
                                    "15": "http://accweb/emmployees/davolio.bmp"
                                },
                                {
                                    "0": "9",
                                    "1": "Dodsworth",
                                    "2": "Anne",
                                    "3": "Sales Representative",
                                    "4": "Ms.",
                                    "5": "1966-01-27 00:00:00.000",
                                    "6": "1994-11-15 00:00:00.000",
                                    "7": "7 Houndstooth Rd.",
                                    "8": "London",
                                    "9": "NULL",
                                    "10": "WG2 7LT",
                                    "11": "UK",
                                    "12": "(71) 555-4444",
                                    "13": "452",
                                    "14": "5",
                                    "15": "http://accweb/emmployees/davolio.bmp"
                                }
                            ]
                        },
                        "text/html": [
                            "<table>",
                            "<tr><th>EmployeeID</th><th>LastName</th><th>FirstName</th><th>Title</th><th>TitleOfCourtesy</th><th>BirthDate</th><th>HireDate</th><th>Address</th><th>City</th><th>Region</th><th>PostalCode</th><th>Country</th><th>HomePhone</th><th>Extension</th><th>ReportsTo</th><th>PhotoPath</th></tr>",
                            "<tr><td>1</td><td>Davolio</td><td>Nancy</td><td>Sales Representative</td><td>Ms.</td><td>1948-12-08 00:00:00.000</td><td>1992-05-01 00:00:00.000</td><td>507 - 20th Ave. E.\r\nApt. 2A</td><td>Seattle</td><td>WA</td><td>98122</td><td>USA</td><td>(206) 555-9857</td><td>5467</td><td>2</td><td>http://accweb/emmployees/davolio.bmp</td></tr>",
                            "<tr><td>2</td><td>Fuller</td><td>Andrew</td><td>Vice President, Sales</td><td>Dr.</td><td>1952-02-19 00:00:00.000</td><td>1992-08-14 00:00:00.000</td><td>908 W. Capital Way</td><td>Tacoma</td><td>WA</td><td>98401</td><td>USA</td><td>(206) 555-9482</td><td>3457</td><td>NULL</td><td>http://accweb/emmployees/fuller.bmp</td></tr>",
                            "<tr><td>3</td><td>Leverling</td><td>Janet</td><td>Sales Representative</td><td>Ms.</td><td>1963-08-30 00:00:00.000</td><td>1992-04-01 00:00:00.000</td><td>722 Moss Bay Blvd.</td><td>Kirkland</td><td>WA</td><td>98033</td><td>USA</td><td>(206) 555-3412</td><td>3355</td><td>2</td><td>http://accweb/emmployees/leverling.bmp</td></tr>",
                            "<tr><td>4</td><td>Peacock</td><td>Margaret</td><td>Sales Representative</td><td>Mrs.</td><td>1937-09-19 00:00:00.000</td><td>1993-05-03 00:00:00.000</td><td>4110 Old Redmond Rd.</td><td>Redmond</td><td>WA</td><td>98052</td><td>USA</td><td>(206) 555-8122</td><td>5176</td><td>2</td><td>http://accweb/emmployees/peacock.bmp</td></tr>",
                            "<tr><td>5</td><td>Buchanan</td><td>Steven</td><td>Sales Manager</td><td>Mr.</td><td>1955-03-04 00:00:00.000</td><td>1993-10-17 00:00:00.000</td><td>14 Garrett Hill</td><td>London</td><td>NULL</td><td>SW1 8JR</td><td>UK</td><td>(71) 555-4848</td><td>3453</td><td>2</td><td>http://accweb/emmployees/buchanan.bmp</td></tr>",
                            "<tr><td>6</td><td>Suyama</td><td>Michael</td><td>Sales Representative</td><td>Mr.</td><td>1963-07-02 00:00:00.000</td><td>1993-10-17 00:00:00.000</td><td>Coventry House\r\nMiner Rd.</td><td>London</td><td>NULL</td><td>EC2 7JR</td><td>UK</td><td>(71) 555-7773</td><td>428</td><td>5</td><td>http://accweb/emmployees/davolio.bmp</td></tr>",
                            "<tr><td>7</td><td>King</td><td>Robert</td><td>Sales Representative</td><td>Mr.</td><td>1960-05-29 00:00:00.000</td><td>1994-01-02 00:00:00.000</td><td>Edgeham Hollow\r\nWinchester Way</td><td>London</td><td>NULL</td><td>RG1 9SP</td><td>UK</td><td>(71) 555-5598</td><td>465</td><td>5</td><td>http://accweb/emmployees/davolio.bmp</td></tr>",
                            "<tr><td>8</td><td>Callahan</td><td>Laura</td><td>Inside Sales Coordinator</td><td>Ms.</td><td>1958-01-09 00:00:00.000</td><td>1994-03-05 00:00:00.000</td><td>4726 - 11th Ave. N.E.</td><td>Seattle</td><td>WA</td><td>98105</td><td>USA</td><td>(206) 555-1189</td><td>2344</td><td>2</td><td>http://accweb/emmployees/davolio.bmp</td></tr>",
                            "<tr><td>9</td><td>Dodsworth</td><td>Anne</td><td>Sales Representative</td><td>Ms.</td><td>1966-01-27 00:00:00.000</td><td>1994-11-15 00:00:00.000</td><td>7 Houndstooth Rd.</td><td>London</td><td>NULL</td><td>WG2 7LT</td><td>UK</td><td>(71) 555-4444</td><td>452</td><td>5</td><td>http://accweb/emmployees/davolio.bmp</td></tr>",
                            "</table>"
                        ]
                    }
                }
            ],
            "execution_count": 4
        }
    ]
}