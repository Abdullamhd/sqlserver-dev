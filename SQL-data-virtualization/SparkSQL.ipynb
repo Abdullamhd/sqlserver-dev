{
    "metadata": {
        "kernelspec": {
            "name": "sparkkernel",
            "display_name": "Spark | Scala",
            "language": ""
        },
        "language_info": {
            "name": "scala",
            "mimetype": "text/x-scala",
            "codemirror_mode": "text/x-scala",
            "file_extension": ".sc",
            "pygments_lexer": "scala"
        }
    },
    "nbformat_minor": 2,
    "nbformat": 4,
    "cells": [
        {
            "cell_type": "code",
            "source": [
                ""
            ],
            "metadata": {
                "azdata_cell_guid": "da8a7c3e-f5d7-4054-a526-db546f51552f"
            },
            "outputs": [],
            "execution_count": null
        }
    ]
}