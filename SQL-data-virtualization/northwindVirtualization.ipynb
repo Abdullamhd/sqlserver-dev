{
    "metadata": {
        "kernelspec": {
            "name": "SQL",
            "display_name": "SQL",
            "language": "sql"
        },
        "language_info": {
            "name": "sql",
            "version": ""
        }
    },
    "nbformat_minor": 2,
    "nbformat": 4,
    "cells": [
        {
            "cell_type": "code",
            "source": [
                "EXEC sp_configure @configname = 'polybase enabled' , @configvalue = 1 ;\r\n",
                "RECONFIGURE WITH OVERRIDE ; \r\n",
                "\r\n",
                "EXEC sp_configure 'polybase enabled' ;\r\n",
                "\r\n",
                "SELECT SERVERPROPERTY('IsPolyBaseInstalled') as PolyBaseInstallationStatus ;\r\n",
                ""
            ],
            "metadata": {
                "azdata_cell_guid": "dc103584-b94a-4825-8cc5-36f8bbfea463"
            },
            "outputs": [],
            "execution_count": null
        },
        {
            "cell_type": "code",
            "source": [
                "USE external_db ; \r\n",
                "IF NOT EXISTS (SELECT * FROM sys.symmetric_keys)\r\n",
                "BEGIN \r\n",
                "        CREATE MASTER KEY ENCRYPTION BY PASSWORD = 'p3dc68f2Q' ;\r\n",
                "        PRINT 'Master Key Created'\r\n",
                "END \r\n",
                "ELSE \r\n",
                "BEGIN \r\n",
                "    SELECT * from sys.symmetric_keys ; \r\n",
                "END \r\n",
                ""
            ],
            "metadata": {
                "azdata_cell_guid": "69da6b3e-3b93-4686-ba72-baba21cfe01a"
            },
            "outputs": [],
            "execution_count": null
        },
        {
            "cell_type": "code",
            "source": [
                "BEGIN TRY \r\n",
                "    CREATE DATABASE SCOPED CREDENTIAL container_db_cred\r\n",
                "        WITH IDENTITY = 'sa' , \r\n",
                "        SECRET = 'p3dc68f2Q@#' ; \r\n",
                "        PRINT 'Credential created !' ;\r\n",
                "END TRY \r\n",
                "BEGIN CATCH \r\n",
                "    PRINT 'Credential Already Exists ' ;\r\n",
                "END CATCH \r\n",
                "SELECT * FROM sys.database_scoped_credentials ; \r\n",
                "\r\n",
                ""
            ],
            "metadata": {
                "azdata_cell_guid": "31a0324e-58db-423e-9014-675c15f1a8d1"
            },
            "outputs": [],
            "execution_count": null
        },
        {
            "cell_type": "code",
            "source": [
                "BEGIN TRY \r\n",
                "\r\n",
                "CREATE EXTERNAL DATA SOURCE external_msql_1433\r\n",
                "    WITH \r\n",
                "    (\r\n",
                "        LOCATION = 'sqlserver://localhost:1433' ,\r\n",
                "        PUSHDOWN = ON ,\r\n",
                "        CREDENTIAL = container_msql_1433\r\n",
                "    ) ;\r\n",
                "\r\n",
                "    PRINT 'External Data Source Created ! '\r\n",
                "    \r\n",
                "END TRY \r\n",
                "BEGIN CATCH \r\n",
                "    IF NOT EXISTS (SELECT  * from sys.external_data_sources WHERE name = 'external_msql_1433' ) \r\n",
                "    BEGIN \r\n",
                "        PRINT 'Error Creating Database'\r\n",
                "    END \r\n",
                "    ELSE \r\n",
                "    BEGIN \r\n",
                "        PRINT 'External Data source Already Created ! '\r\n",
                "    END \r\n",
                "\r\n",
                "END CATCH "
            ],
            "metadata": {
                "azdata_cell_guid": "6b7687b8-8866-4795-8ebe-00f3352493fc"
            },
            "outputs": [],
            "execution_count": null
        },
        {
            "cell_type": "code",
            "source": [
                "\r\n",
                "IF EXISTS (SELECT * from sys.schemas WHERE name = 'ext')\r\n",
                "BEGIN \r\n",
                "    DROP SCHEMA ext ; \r\n",
                "    PRINT 'Schema Dropped'\r\n",
                "END \r\n",
                "GO \r\n",
                "CREATE SCHEMA ext ;\r\n",
                "GO \r\n",
                "SELECT * FROM sys.schemas WHERE NAME = 'ext'\r\n",
                "\r\n",
                "\r\n",
                ""
            ],
            "metadata": {
                "azdata_cell_guid": "0b0861b2-b698-4d58-b2f1-007b126324c4"
            },
            "outputs": [],
            "execution_count": null
        },
        {
            "cell_type": "code",
            "source": [
                "select * from sys.external_tables ; "
            ],
            "metadata": {
                "azdata_cell_guid": "887611ca-493d-4d4f-9927-44241064284f"
            },
            "outputs": [
                {
                    "output_type": "display_data",
                    "data": {
                        "text/html": "(0 rows affected)"
                    },
                    "metadata": {}
                },
                {
                    "output_type": "display_data",
                    "data": {
                        "text/html": "Total execution time: 00:00:00.020"
                    },
                    "metadata": {}
                },
                {
                    "output_type": "execute_result",
                    "metadata": {},
                    "execution_count": 17,
                    "data": {
                        "application/vnd.dataresource+json": {
                            "schema": {
                                "fields": [
                                    {
                                        "name": "name"
                                    },
                                    {
                                        "name": "object_id"
                                    },
                                    {
                                        "name": "principal_id"
                                    },
                                    {
                                        "name": "schema_id"
                                    },
                                    {
                                        "name": "parent_object_id"
                                    },
                                    {
                                        "name": "type"
                                    },
                                    {
                                        "name": "type_desc"
                                    },
                                    {
                                        "name": "create_date"
                                    },
                                    {
                                        "name": "modify_date"
                                    },
                                    {
                                        "name": "is_ms_shipped"
                                    },
                                    {
                                        "name": "is_published"
                                    },
                                    {
                                        "name": "is_schema_published"
                                    },
                                    {
                                        "name": "max_column_id_used"
                                    },
                                    {
                                        "name": "uses_ansi_nulls"
                                    },
                                    {
                                        "name": "data_source_id"
                                    },
                                    {
                                        "name": "file_format_id"
                                    },
                                    {
                                        "name": "location"
                                    },
                                    {
                                        "name": "reject_type"
                                    },
                                    {
                                        "name": "reject_value"
                                    },
                                    {
                                        "name": "reject_sample_value"
                                    },
                                    {
                                        "name": "distribution_type"
                                    },
                                    {
                                        "name": "distribution_desc"
                                    },
                                    {
                                        "name": "sharding_col_id"
                                    },
                                    {
                                        "name": "remote_schema_name"
                                    },
                                    {
                                        "name": "remote_object_name"
                                    },
                                    {
                                        "name": "rejected_row_location"
                                    }
                                ]
                            },
                            "data": []
                        },
                        "text/html": [
                            "<table>",
                            "<tr><th>name</th><th>object_id</th><th>principal_id</th><th>schema_id</th><th>parent_object_id</th><th>type</th><th>type_desc</th><th>create_date</th><th>modify_date</th><th>is_ms_shipped</th><th>is_published</th><th>is_schema_published</th><th>max_column_id_used</th><th>uses_ansi_nulls</th><th>data_source_id</th><th>file_format_id</th><th>location</th><th>reject_type</th><th>reject_value</th><th>reject_sample_value</th><th>distribution_type</th><th>distribution_desc</th><th>sharding_col_id</th><th>remote_schema_name</th><th>remote_object_name</th><th>rejected_row_location</th></tr>",
                            "</table>"
                        ]
                    }
                }
            ],
            "execution_count": 17
        },
        {
            "cell_type": "code",
            "source": [
                "-- CREATE Customers External Table \r\n",
                "\r\n",
                "\r\n",
                "IF EXISTS (SELECT * FROM sys.external_tables WHERE NAME = 'Customers') \r\n",
                "BEGIN \r\n",
                "    DROP EXTERNAL TABLE ext.Customers\r\n",
                "END \r\n",
                "\r\n",
                "CREATE EXTERNAL TABLE ext.[Customers]\r\n",
                "(\r\n",
                "    [CustomerID] [nchar](5) COLLATE SQL_Latin1_General_CP1_CI_AS NOT NULL,\r\n",
                "\t[CompanyName] [nvarchar](40) COLLATE SQL_Latin1_General_CP1_CI_AS NOT NULL,\r\n",
                "\t[ContactName] [nvarchar](30) COLLATE SQL_Latin1_General_CP1_CI_AS  NULL,\r\n",
                "\t[ContactTitle] [nvarchar](30) COLLATE SQL_Latin1_General_CP1_CI_AS  NULL,\r\n",
                "\t[Address] [nvarchar](60) COLLATE SQL_Latin1_General_CP1_CI_AS  NULL,\r\n",
                "\t[City] [nvarchar](15) COLLATE SQL_Latin1_General_CP1_CI_AS  NULL,\r\n",
                "\t[Region] [nvarchar](15) COLLATE SQL_Latin1_General_CP1_CI_AS  NULL,\r\n",
                "\t[PostalCode] [nvarchar](10) COLLATE SQL_Latin1_General_CP1_CI_AS  NULL,\r\n",
                "\t[Country] [nvarchar](15) COLLATE SQL_Latin1_General_CP1_CI_AS  NULL,\r\n",
                "\t[Phone] [nvarchar](24) COLLATE SQL_Latin1_General_CP1_CI_AS  NULL,\r\n",
                "\t[Fax] [nvarchar](24) COLLATE SQL_Latin1_General_CP1_CI_AS  NULL\r\n",
                "\r\n",
                ") WITH (\r\n",
                "    DATA_SOURCE = external_msql_1433 ,\r\n",
                "    LOCATION = 'NorthWind.dbo.Customers'\r\n",
                ")\r\n",
                "\r\n",
                "\r\n",
                ""
            ],
            "metadata": {
                "azdata_cell_guid": "27cd3fac-caea-405b-92ca-654cae34bc62"
            },
            "outputs": [
                {
                    "output_type": "display_data",
                    "data": {
                        "text/html": "Commands completed successfully."
                    },
                    "metadata": {}
                },
                {
                    "output_type": "display_data",
                    "data": {
                        "text/html": "Total execution time: 00:00:00.077"
                    },
                    "metadata": {}
                }
            ],
            "execution_count": 20
        },
        {
            "cell_type": "code",
            "source": [
                "IF EXISTS (SELECT * FROM sys.external_tables WHERE NAME = 'Employees') \r\n",
                "BEGIN \r\n",
                "    DROP EXTERNAL TABLE ext.Employees\r\n",
                "END \r\n",
                "\r\n",
                "CREATE EXTERNAL TABLE ext.[Employees]\r\n",
                "(\r\n",
                "\t[EmployeeID] [int]  NOT NULL,\r\n",
                "\t[LastName] [nvarchar](20) COLLATE SQL_Latin1_General_CP1_CI_AS NOT NULL,\r\n",
                "\t[FirstName] [nvarchar](10)COLLATE SQL_Latin1_General_CP1_CI_AS NOT NULL,\r\n",
                "\t[Title] [nvarchar](30) COLLATE SQL_Latin1_General_CP1_CI_AS  NULL,\r\n",
                "\t[TitleOfCourtesy] [nvarchar](25) COLLATE SQL_Latin1_General_CP1_CI_AS  NULL,\r\n",
                "\t[BirthDate] [datetime]  NULL,\r\n",
                "\t[HireDate] [datetime]  NULL,\r\n",
                "\t[Address] [nvarchar](60) COLLATE SQL_Latin1_General_CP1_CI_AS  NULL,\r\n",
                "\t[City] [nvarchar](15) COLLATE SQL_Latin1_General_CP1_CI_AS  NULL,\r\n",
                "\t[Region] [nvarchar](15) COLLATE SQL_Latin1_General_CP1_CI_AS  NULL,\r\n",
                "\t[PostalCode] [nvarchar](10) COLLATE SQL_Latin1_General_CP1_CI_AS  NULL,\r\n",
                "\t[Country] [nvarchar](15) COLLATE SQL_Latin1_General_CP1_CI_AS  NULL,\r\n",
                "\t[HomePhone] [nvarchar](24) COLLATE SQL_Latin1_General_CP1_CI_AS  NULL,\r\n",
                "\t[Extension] [nvarchar](4) COLLATE SQL_Latin1_General_CP1_CI_AS  NULL,\r\n",
                "\t[ReportsTo] [int] NULL,\r\n",
                "\t[PhotoPath] [nvarchar](255) COLLATE SQL_Latin1_General_CP1_CI_AS  NULL\r\n",
                "\r\n",
                ") WITH (\r\n",
                "    DATA_SOURCE = external_msql_1433 ,\r\n",
                "    LOCATION = 'NorthWind.dbo.Employees'\r\n",
                ")\r\n",
                "\r\n",
                ""
            ],
            "metadata": {
                "azdata_cell_guid": "74cedcb2-3580-4c41-81ae-3358cbfda83e"
            },
            "outputs": [
                {
                    "output_type": "display_data",
                    "data": {
                        "text/html": "Commands completed successfully."
                    },
                    "metadata": {}
                },
                {
                    "output_type": "display_data",
                    "data": {
                        "text/html": "Total execution time: 00:00:00.218"
                    },
                    "metadata": {}
                }
            ],
            "execution_count": 29
        },
        {
            "cell_type": "code",
            "source": [
                "IF EXISTS (SELECT * FROM sys.external_tables WHERE NAME = 'Products') \r\n",
                "BEGIN \r\n",
                "    DROP EXTERNAL TABLE ext.Products\r\n",
                "END \r\n",
                "\r\n",
                "\r\n",
                "\r\n",
                "CREATE EXTERNAL TABLE ext.[Products]\r\n",
                "(\r\n",
                "\t[ProductID] [int]  NOT NULL,\r\n",
                "\t[ProductName] [nvarchar](40)  COLLATE SQL_Latin1_General_CP1_CI_AS NOT NULL,\r\n",
                "\t[SupplierID] [int] NULL,\r\n",
                "\t[CategoryID] [int] NULL,\r\n",
                "\t[QuantityPerUnit] [nvarchar](20) COLLATE SQL_Latin1_General_CP1_CI_AS NULL,\r\n",
                "\t[UnitPrice] [money] NULL,\r\n",
                "\t[UnitsInStock] [smallint] NULL,\r\n",
                "\t[UnitsOnOrder] [smallint] NULL,\r\n",
                "\t[ReorderLevel] [smallint] NULL,\r\n",
                "\t[Discontinued] [bit] NOT NULL\r\n",
                "\r\n",
                ") WITH (\r\n",
                "    DATA_SOURCE = external_msql_1433 ,\r\n",
                "    LOCATION = 'NorthWind.dbo.Products'\r\n",
                ")\r\n",
                ""
            ],
            "metadata": {
                "azdata_cell_guid": "3cacc4cb-cf0f-461e-bcdf-ad3ff2ce0097"
            },
            "outputs": [
                {
                    "output_type": "display_data",
                    "data": {
                        "text/html": "Commands completed successfully."
                    },
                    "metadata": {}
                },
                {
                    "output_type": "display_data",
                    "data": {
                        "text/html": "Total execution time: 00:00:00.048"
                    },
                    "metadata": {}
                }
            ],
            "execution_count": 33
        },
        {
            "cell_type": "code",
            "source": [
                "IF EXISTS (SELECT * FROM sys.external_tables WHERE NAME = 'Region') \r\n",
                "BEGIN \r\n",
                "    DROP EXTERNAL TABLE ext.Region\r\n",
                "END \r\n",
                "\r\n",
                "\r\n",
                "\r\n",
                "CREATE EXTERNAL TABLE ext.[Region]\r\n",
                "(\r\n",
                "\t[RegionID] [int] NOT NULL,\r\n",
                "\t[RegionDescription] [nchar](50) COLLATE SQL_Latin1_General_CP1_CI_AS NOT NULL\r\n",
                ") WITH (\r\n",
                "    DATA_SOURCE = external_msql_1433 ,\r\n",
                "    LOCATION = 'NorthWind.dbo.Region'\r\n",
                ")"
            ],
            "metadata": {
                "azdata_cell_guid": "e27d9fb0-4d6e-4410-9d9b-b57e30f32570"
            },
            "outputs": [
                {
                    "output_type": "display_data",
                    "data": {
                        "text/html": "Commands completed successfully."
                    },
                    "metadata": {}
                },
                {
                    "output_type": "display_data",
                    "data": {
                        "text/html": "Total execution time: 00:00:00.086"
                    },
                    "metadata": {}
                }
            ],
            "execution_count": 35
        },
        {
            "cell_type": "code",
            "source": [
                "IF EXISTS (SELECT * FROM sys.external_tables WHERE NAME = 'Orders') \r\n",
                "BEGIN \r\n",
                "    DROP EXTERNAL TABLE ext.Orders\r\n",
                "END \r\n",
                "\r\n",
                "\r\n",
                "\r\n",
                "CREATE EXTERNAL TABLE ext.[Orders]\r\n",
                "(\r\n",
                "    \t[OrderID] [int] NOT NULL,\r\n",
                "\t[CustomerID] [nchar](5) COLLATE SQL_Latin1_General_CP1_CI_AS NULL,\r\n",
                "\t[EmployeeID] [int] NULL,\r\n",
                "\t[OrderDate] [datetime] NULL,\r\n",
                "\t[RequiredDate] [datetime] NULL,\r\n",
                "\t[ShippedDate] [datetime] NULL,\r\n",
                "\t[ShipVia] [int] NULL,\r\n",
                "\t[Freight] [money] NULL,\r\n",
                "\t[ShipName] [nvarchar](40) COLLATE SQL_Latin1_General_CP1_CI_AS NULL,\r\n",
                "\t[ShipAddress] [nvarchar](60) COLLATE SQL_Latin1_General_CP1_CI_AS NULL,\r\n",
                "\t[ShipCity] [nvarchar](15) COLLATE SQL_Latin1_General_CP1_CI_AS NULL,\r\n",
                "\t[ShipRegion] [nvarchar](15) COLLATE SQL_Latin1_General_CP1_CI_AS NULL,\r\n",
                "\t[ShipPostalCode] [nvarchar](10) COLLATE SQL_Latin1_General_CP1_CI_AS NULL,\r\n",
                "\t[ShipCountry] [nvarchar](15) COLLATE SQL_Latin1_General_CP1_CI_AS NULL\r\n",
                "\r\n",
                ") WITH (\r\n",
                "    DATA_SOURCE = external_msql_1433 ,\r\n",
                "    LOCATION = 'NorthWind.dbo.Orders'\r\n",
                ")"
            ],
            "metadata": {
                "azdata_cell_guid": "27734e47-484e-44de-92fe-85871749f110"
            },
            "outputs": [
                {
                    "output_type": "display_data",
                    "data": {
                        "text/html": "Commands completed successfully."
                    },
                    "metadata": {}
                },
                {
                    "output_type": "display_data",
                    "data": {
                        "text/html": "Total execution time: 00:00:00.075"
                    },
                    "metadata": {}
                }
            ],
            "execution_count": 38
        }
    ]
}