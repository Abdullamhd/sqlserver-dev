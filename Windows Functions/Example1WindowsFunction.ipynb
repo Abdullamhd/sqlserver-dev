{
    "metadata": {
        "kernelspec": {
            "name": "SQL",
            "display_name": "SQL",
            "language": "sql"
        },
        "language_info": {
            "name": "sql",
            "version": ""
        }
    },
    "nbformat_minor": 2,
    "nbformat": 4,
    "cells": [
        {
            "cell_type": "code",
            "source": [
                "use Northwind ; \r\n",
                ""
            ],
            "metadata": {
                "azdata_cell_guid": "acaf605c-8b10-4e8c-8cc7-6ffaa27311b4"
            },
            "outputs": [],
            "execution_count": null
        },
        {
            "cell_type": "code",
            "source": [
                "select * from orderDetails "
            ],
            "metadata": {
                "azdata_cell_guid": "c3c6be3f-b34e-4f80-b07a-6d159c19a7cd"
            },
            "outputs": [],
            "execution_count": null
        },
        {
            "cell_type": "code",
            "source": [
                "select customerId , od.orderid , unitprice , \r\n",
                "rank() over(order by unitprice desc) as rnkall , \r\n",
                "rank() over (partition by customerId order by unitprice desc ) as rnkcust \r\n",
                "from orders \r\n",
                "join orderDetails od on od.orderid = orders.orderid ; "
            ],
            "metadata": {
                "azdata_cell_guid": "7e733257-ae4c-476f-b7f6-d16c2def0221"
            },
            "outputs": [],
            "execution_count": null
        },
        {
            "cell_type": "code",
            "source": [
                "SET NOCOUNT ON;\r\n",
                "DROP TABLE IF EXISTS dbo.T1;\r\n",
                "GO\r\n",
                "CREATE TABLE dbo.T1\r\n",
                "(\r\n",
                "col1 VARCHAR(10) NOT NULL\r\n",
                "CONSTRAINT PK_T1 PRIMARY KEY\r\n",
                ");\r\n",
                "INSERT INTO dbo.T1(col1)\r\n",
                "VALUES('A'),('B'),('C'),('D'),('E'),('F');"
            ],
            "metadata": {
                "azdata_cell_guid": "6f49b1e0-70f2-492e-be23-f23998e4f1c2"
            },
            "outputs": [],
            "execution_count": null
        },
        {
            "cell_type": "code",
            "source": [
                "select country , ROW_NUMBER() OVER(ORDER BY country ) as rownum \r\n",
                "from Employees \r\n",
                "group by country "
            ],
            "metadata": {
                "azdata_cell_guid": "3a6275e8-be5b-4612-83b9-d17c1f6c63fd",
                "tags": []
            },
            "outputs": [],
            "execution_count": null
        },
        {
            "cell_type": "markdown",
            "source": [
                "## Here We fill the null column with unique value with ``` ROW_NUMBER() ```"
            ],
            "metadata": {
                "azdata_cell_guid": "e38c47e3-d76a-4e34-b7f0-d03cd09fd96e"
            },
            "attachments": {}
        },
        {
            "cell_type": "code",
            "source": [
                "DROP TABLE IF EXISTS dbo.T1;\r\n",
                "GO\r\n",
                "CREATE TABLE dbo.T1\r\n",
                "(\r\n",
                "col1 INT NULL,\r\n",
                "col2 VARCHAR(10) NOT NULL\r\n",
                ");\r\n",
                "INSERT INTO dbo.T1(col2)\r\n",
                "VALUES('C'),('A'),('B'),('A'),('C'),('B');\r\n",
                "GO \r\n",
                "WITH C AS (\r\n",
                "    SELECT col1, col2 , \r\n",
                "    ROW_NUMBER() OVER (ORDER BY col2) AS rownum \r\n",
                "    from T1 ) \r\n",
                "    UPDATE C \r\n",
                "        SET col1 = rownum ;\r\n",
                "\r\n",
                "GO \r\n",
                "select * from t1"
            ],
            "metadata": {
                "azdata_cell_guid": "ce3626aa-f021-41c0-a8bb-62ad172adbea"
            },
            "outputs": [
{
    "output_type": "display_data",
    "data": {
        "text/html": "Commands completed successfully."
    },
    "metadata": {}
}, {
    "output_type": "display_data",
    "data": {
        "text/html": "Commands completed successfully."
    },
    "metadata": {}
}, {
    "output_type": "display_data",
    "data": {
        "text/html": "Commands completed successfully."
    },
    "metadata": {}
}, {
    "output_type": "display_data",
    "data": {
        "text/html": "Commands completed successfully."
    },
    "metadata": {}
}, {
    "output_type": "display_data",
    "data": {
        "text/html": "Total execution time: 00:00:00.033"
    },
    "metadata": {}
}, {
    "output_type": "execute_result",
    "metadata": {},
    "execution_count": 45,
    "data": {
        "application/vnd.dataresource+json": {
            "schema": {
                "fields": [
                    {
                        "name": "col1"
                    },
                    {
                        "name": "col2"
                    }
                ]
            },
            "data": [
                {
                    "0": "5",
                    "1": "C"
                },
                {
                    "0": "1",
                    "1": "A"
                },
                {
                    "0": "3",
                    "1": "B"
                },
                {
                    "0": "2",
                    "1": "A"
                },
                {
                    "0": "6",
                    "1": "C"
                },
                {
                    "0": "4",
                    "1": "B"
                }
            ]
        },
        "text/html": [
            "<table>",
            "<tr><th>col1</th><th>col2</th></tr>",
            "<tr><td>5</td><td>C</td></tr>",
            "<tr><td>1</td><td>A</td></tr>",
            "<tr><td>3</td><td>B</td></tr>",
            "<tr><td>2</td><td>A</td></tr>",
            "<tr><td>6</td><td>C</td></tr>",
            "<tr><td>4</td><td>B</td></tr>",
            "</table>"
        ]
    }
}
],
            "execution_count": 45
        },
        {
            "cell_type": "code",
            "source": [
                ""
            ],
            "metadata": {
                "azdata_cell_guid": "5cc0ad7f-09cb-43f2-b0e1-d029f157ecab"
            },
            "outputs": [
                {
                    "output_type": "display_data",
                    "data": {
                        "text/html": "Commands completed successfully."
                    },
                    "metadata": {}
                },
                {
                    "output_type": "display_data",
                    "data": {
                        "text/html": "Total execution time: 00:00:00.014"
                    },
                    "metadata": {}
                }
            ],
            "execution_count": 43
        },
        {
            "cell_type": "code",
            "source": [
                ""
            ],
            "metadata": {
                "azdata_cell_guid": "8053e6af-0dc5-4a1f-bca2-555508446e27"
            },
            "outputs": [
                {
                    "output_type": "display_data",
                    "data": {
                        "text/html": "Commands completed successfully."
                    },
                    "metadata": {}
                },
                {
                    "output_type": "display_data",
                    "data": {
                        "text/html": "Total execution time: 00:00:00.004"
                    },
                    "metadata": {}
                },
                {
                    "output_type": "execute_result",
                    "metadata": {},
                    "execution_count": 44,
                    "data": {
                        "application/vnd.dataresource+json": {
                            "schema": {
                                "fields": [
                                    {
                                        "name": "col1"
                                    },
                                    {
                                        "name": "col2"
                                    }
                                ]
                            },
                            "data": [
                                {
                                    "0": "5",
                                    "1": "C"
                                },
                                {
                                    "0": "1",
                                    "1": "A"
                                },
                                {
                                    "0": "3",
                                    "1": "B"
                                },
                                {
                                    "0": "2",
                                    "1": "A"
                                },
                                {
                                    "0": "6",
                                    "1": "C"
                                },
                                {
                                    "0": "4",
                                    "1": "B"
                                }
                            ]
                        },
                        "text/html": [
                            "<table>",
                            "<tr><th>col1</th><th>col2</th></tr>",
                            "<tr><td>5</td><td>C</td></tr>",
                            "<tr><td>1</td><td>A</td></tr>",
                            "<tr><td>3</td><td>B</td></tr>",
                            "<tr><td>2</td><td>A</td></tr>",
                            "<tr><td>6</td><td>C</td></tr>",
                            "<tr><td>4</td><td>B</td></tr>",
                            "</table>"
                        ]
                    }
                }
            ],
            "execution_count": 44
        }
    ]
}